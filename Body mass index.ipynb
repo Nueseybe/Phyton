{
 "cells": [
  {
   "cell_type": "code",
   "execution_count": 29,
   "metadata": {},
   "outputs": [
    {
     "name": "stdout",
     "output_type": "stream",
     "text": [
      "Your Bady Mass Index 18.73, Normal\n"
     ]
    }
   ],
   "source": [
    "user_height = input (\"Please enter your height :\")\n",
    "us_height=float (user_height)\n",
    "user_weight = input (\"Please input your weight :\")\n",
    "us_weight=float (user_weight)\n",
    "Bmi= (us_weight/((us_height/100)*(us_height/100)))\n",
    "if Bmi<=20.5 and  Bmi >=18.5 :\n",
    "    print (f\"Your Bady Mass Index {Bmi:.2f}, Normal\")\n",
    "elif Bmi>25 and Bmi<=30 :\n",
    "    print(f\"Your Bady Mass Index {Bmi:.2f}  Over Height\")\n",
    "elif Bmi>30 and Bmi<=40 :\n",
    "    print(f\"Your Bady Mass Index {Bmi:.2f}  Obse\")\n",
    "elif Bmi >40 :\n",
    "    print(f\"Your Bady Mass Index {Bmi:.2f}, Extremly Obse\")\n",
    "\n",
    "\n",
    "\n"
   ]
  }
 ],
 "metadata": {
  "kernelspec": {
   "display_name": "Python 3.10.8 64-bit",
   "language": "python",
   "name": "python3"
  },
  "language_info": {
   "codemirror_mode": {
    "name": "ipython",
    "version": 3
   },
   "file_extension": ".py",
   "mimetype": "text/x-python",
   "name": "python",
   "nbconvert_exporter": "python",
   "pygments_lexer": "ipython3",
   "version": "3.10.8"
  },
  "orig_nbformat": 4,
  "vscode": {
   "interpreter": {
    "hash": "c613878e19fd5c3f08aa2063b0d4a808a7cd0b7ebdaccd9036ec94e00033c8c2"
   }
  }
 },
 "nbformat": 4,
 "nbformat_minor": 2
}
